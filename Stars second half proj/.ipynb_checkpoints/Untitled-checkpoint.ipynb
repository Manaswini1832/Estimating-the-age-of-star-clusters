{
 "cells": [
  {
   "cell_type": "code",
   "execution_count": null,
   "metadata": {},
   "outputs": [],
   "source": [
    "from astropy.io import fits as fit\n",
    "import numpy as np\n",
    "from scipy.optimize import curve_fit as cfit\n",
    "import scipy.constants as s\n",
    "import matplotlib.pyplot as plt\n",
    "from scipy.signal import find_peaks as fp\n",
    "k = input(\"Enter the name of file:\\n\")\n",
    "k = k+\".fits\"\n",
    "dat = fit.open(k)\n",
    "dat = dat[0].data\n",
    "wvl=np.arange(1150,25001,5)\n",
    "l=wvl*10**-10\n",
    "def B(l,T,n):\n",
    "    t=(n*2*s.h*s.c**2)/((l**5)*(np.exp((s.h*s.c)/(l*s.k*T))-1))\n",
    "    return t\n",
    "plt.plot(wvl,dat)\n",
    "plt.show()\n",
    "inp = input(\"Where to cut:\\n\")\n",
    "if inp=='max':\n",
    "    cut = np.argmax(dat)\n",
    "else:\n",
    "    cut=wvl.tolist().index(int(inp))\n",
    "\n",
    "cut=int(cut)\n",
    "spec=wvl.tolist().index(3500)\n",
    "val, var = cfit(B,l[cut:],dat[cut:],p0=[1000,1])\n",
    "peaks,_=fp((B(l,val[0],val[1])-dat), height=0,prominence=0.05)\n",
    "wvlpk = (peaks*5+1150)\n",
    "specpk=[]\n",
    "for i in range(len(peaks)):\n",
    "    if wvlpk[i]>6550 and wvlpk[i]<6650:\n",
    "        specpk.append(wvlpk[i])\n",
    "    elif wvlpk[i]>4750 and wvlpk[i]<4850:\n",
    "        specpk.append(wvlpk[i])\n",
    "    elif wvlpk[i]>4300 and wvlpk[i]<4400:\n",
    "        specpk.append(wvlpk[i])\n",
    "specpk=(np.array(specpk)+(-1150))/5\n",
    "wvlpk=np.array(specpk).astype(int)\n",
    "plt.plot((peaks*5+1150),dat[peaks],\"x\")\n",
    "plt.plot((wvlpk*5+1150),dat[wvlpk],\"o\")\n",
    "plt.plot(wvl,B(l,val[0],val[1])-dat)\n",
    "plt.plot(wvl,dat)\n",
    "plt.title(val[0])\n",
    "plt.plot(wvl,B(l,val[0],val[1]))\n",
    "plt.show()"
   ]
  },
  {
   "cell_type": "code",
   "execution_count": null,
   "metadata": {},
   "outputs": [],
   "source": [
    "m15_star1_secondHalf.xlsx"
   ]
  },
  {
   "cell_type": "code",
   "execution_count": null,
   "metadata": {},
   "outputs": [],
   "source": []
  }
 ],
 "metadata": {
  "kernelspec": {
   "display_name": "Python 3",
   "language": "python",
   "name": "python3"
  },
  "language_info": {
   "codemirror_mode": {
    "name": "ipython",
    "version": 3
   },
   "file_extension": ".py",
   "mimetype": "text/x-python",
   "name": "python",
   "nbconvert_exporter": "python",
   "pygments_lexer": "ipython3",
   "version": "3.7.6"
  }
 },
 "nbformat": 4,
 "nbformat_minor": 4
}
